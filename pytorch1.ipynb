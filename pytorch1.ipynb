{
 "cells": [
  {
   "cell_type": "markdown",
   "metadata": {},
   "source": [
    "# Pytorch Tutorial"
   ]
  },
  {
   "cell_type": "markdown",
   "metadata": {},
   "source": [
    "Pytorch is a popular deep learning framework and it's easy to get started."
   ]
  },
  {
   "cell_type": "code",
   "execution_count": 1,
   "metadata": {},
   "outputs": [],
   "source": [
    "import torch\n",
    "import torch.nn as nn\n",
    "import torch.utils.data as data\n",
    "import torchvision\n",
    "import torchvision.transforms as transforms\n",
    "from tqdm import tqdm\n",
    "import time\n",
    "\n",
    "BATCH_SIZE = 64\n",
    "NUM_EPOCHS = 20"
   ]
  },
  {
   "cell_type": "markdown",
   "metadata": {},
   "source": [
    "First, we read the mnist data, preprocess them and encapsulate them into dataloader form."
   ]
  },
  {
   "cell_type": "code",
   "execution_count": 2,
   "metadata": {},
   "outputs": [],
   "source": [
    "# preprocessing\n",
    "normalize = transforms.Normalize(mean=[.5], std=[.5])\n",
    "transform = transforms.Compose([transforms.ToTensor(), normalize])\n",
    "\n",
    "# download and load the data\n",
    "train_dataset = torchvision.datasets.MNIST(root='./mnist/', train=True, transform=transform, download=True)\n",
    "test_dataset = torchvision.datasets.MNIST(root='./mnist/', train=False, transform=transform, download=False)\n",
    "\n",
    "# encapsulate them into dataloader form\n",
    "train_loader = data.DataLoader(train_dataset, batch_size=BATCH_SIZE, shuffle=True, drop_last=True)\n",
    "test_loader = data.DataLoader(test_dataset, batch_size=BATCH_SIZE, shuffle=False, drop_last=True)"
   ]
  },
  {
   "cell_type": "markdown",
   "metadata": {},
   "source": [
    "Then, we define the model, object function and optimizer that we use to classify."
   ]
  },
  {
   "cell_type": "code",
   "execution_count": 4,
   "metadata": {},
   "outputs": [],
   "source": [
    "class SimpleNet(nn.Module):\n",
    "# TODO:define model\n",
    "    def __init__(self, input_num=28*28, hidden_num_1=500, hidden_num_2=400, hidden_num_3=200, output_num=10):\n",
    "        super(SimpleNet, self).__init__()\n",
    "        self.layer1 = nn.Sequential(nn.Linear(input_num, hidden_num_1), nn.BatchNorm1d(hidden_num_1), nn.ReLU(True))\n",
    "        self.layer2 = nn.Sequential(nn.Linear(hidden_num_1, hidden_num_2), nn.BatchNorm1d(hidden_num_2), nn.ReLU(True))\n",
    "        self.layer3 = nn.Sequential(nn.Linear(hidden_num_2, output_num))\n",
    "\n",
    "    def forward(self,x):\n",
    "        x = self.layer1(x)\n",
    "        x = self.layer2(x)\n",
    "        x = self.layer3(x)\n",
    "        return x\n",
    "    \n",
    "model = SimpleNet()\n",
    "\n",
    "# TODO:define loss function and optimiter\n",
    "criterion = nn.CrossEntropyLoss()\n",
    "optimizer = torch.optim.SGD(model.parameters(), lr=0.02)"
   ]
  },
  {
   "cell_type": "markdown",
   "metadata": {},
   "source": [
    "Next, we can start to train and evaluate!"
   ]
  },
  {
   "cell_type": "code",
   "execution_count": 5,
   "metadata": {
    "scrolled": true
   },
   "outputs": [
    {
     "name": "stderr",
     "output_type": "stream",
     "text": [
      "100%|██████████| 937/937 [00:50<00:00, 18.56it/s]\n",
      "100%|██████████| 937/937 [00:46<00:00, 20.16it/s]\n",
      "100%|██████████| 937/937 [00:48<00:00, 19.36it/s]\n",
      "100%|██████████| 937/937 [00:42<00:00, 21.90it/s]\n",
      "100%|██████████| 937/937 [00:42<00:00, 22.23it/s]\n",
      "100%|██████████| 937/937 [00:41<00:00, 22.36it/s]\n",
      "100%|██████████| 937/937 [00:43<00:00, 21.66it/s]\n",
      "100%|██████████| 937/937 [00:42<00:00, 22.21it/s]\n",
      "100%|██████████| 937/937 [00:44<00:00, 21.16it/s]\n",
      "100%|██████████| 937/937 [00:41<00:00, 22.35it/s]\n",
      "100%|██████████| 937/937 [00:43<00:00, 21.63it/s]\n",
      "100%|██████████| 937/937 [00:42<00:00, 22.26it/s]\n",
      "100%|██████████| 937/937 [00:42<00:00, 22.21it/s]\n",
      "100%|██████████| 937/937 [00:41<00:00, 22.34it/s]\n",
      "100%|██████████| 937/937 [00:42<00:00, 22.15it/s]\n",
      "100%|██████████| 937/937 [00:42<00:00, 21.90it/s]\n",
      "100%|██████████| 937/937 [00:42<00:00, 21.88it/s]\n",
      "100%|██████████| 937/937 [00:47<00:00, 19.81it/s]\n",
      "100%|██████████| 937/937 [00:45<00:00, 20.80it/s]\n",
      "100%|██████████| 937/937 [00:42<00:00, 22.08it/s]\n",
      "100%|██████████| 937/937 [00:13<00:00, 70.99it/s]\n",
      "100%|██████████| 156/156 [00:02<00:00, 70.78it/s]"
     ]
    },
    {
     "name": "stdout",
     "output_type": "stream",
     "text": [
      "Training accuracy: 99.95%\n",
      "Testing accuracy: 98.07%\n"
     ]
    },
    {
     "name": "stderr",
     "output_type": "stream",
     "text": [
      "\n"
     ]
    }
   ],
   "source": [
    "# train and evaluate\n",
    "for epoch in range(NUM_EPOCHS):\n",
    "    for images, labels in tqdm(train_loader):\n",
    "        # TODO:forward + backward + optimize\n",
    "        images = images.view(images.size(0), -1)\n",
    "        images = torch.autograd.Variable(images)\n",
    "        labels = torch.autograd.Variable(labels)\n",
    "        \n",
    "        out = model(images)\n",
    "        loss = criterion(out, labels)\n",
    "        print_loss = loss.data.item()\n",
    "        optimizer.zero_grad()\n",
    "        loss.backward()\n",
    "        optimizer.step()             \n",
    "        \n",
    "    # evaluate\n",
    "    # TODO:calculate the accuracy using traning and testing dataset\n",
    "    \n",
    "model.eval()\n",
    "train_loss = 0\n",
    "train_acc = 0\n",
    "for images, labels in tqdm(train_loader):\n",
    "    images = images.view(images.size(0), -1)\n",
    "    images = torch.autograd.Variable(images)\n",
    "    labels = torch.autograd.Variable(labels)\n",
    "    out = model(images)\n",
    "    loss = criterion(out, labels)\n",
    "    train_loss += loss.data.item()*labels.size(0)\n",
    "    _, pred = torch.max(out, 1)\n",
    "    num_correct = (pred == labels).sum()\n",
    "    train_acc += num_correct.item()\n",
    "\n",
    "train_loss=train_loss / (len(train_dataset))\n",
    "train_accuracy=train_acc / (len(train_dataset))\n",
    "\n",
    "eval_loss = 0\n",
    "eval_accurracy = 0\n",
    "for images, labels in tqdm(test_loader):\n",
    "    images = images.view(images.size(0), -1)\n",
    "    images = torch.autograd.Variable(images)\n",
    "    labels = torch.autograd.Variable(labels)  \n",
    "    out = model(images)\n",
    "    loss = criterion(out, labels)\n",
    "    eval_loss += loss.data.item()*labels.size(0)\n",
    "    _, pred = torch.max(out, 1)\n",
    "    num_correct = (pred == labels).sum()\n",
    "    eval_accurracy += num_correct.item()\n",
    "    \n",
    "test_loss=eval_loss / (len(test_dataset))\n",
    "test_accuracy=eval_accurracy / (len(test_dataset))\n",
    "\n",
    "print('Training accuracy: %0.2f%%' % (train_accuracy*100))\n",
    "print('Testing accuracy: %0.2f%%' % (test_accuracy*100)) "
   ]
  },
  {
   "cell_type": "markdown",
   "metadata": {},
   "source": [
    "#### Q5:\n",
    "Please print the training and testing accuracy."
   ]
  }
 ],
 "metadata": {
  "kernelspec": {
   "display_name": "Python 3",
   "language": "python",
   "name": "python3"
  },
  "language_info": {
   "codemirror_mode": {
    "name": "ipython",
    "version": 3
   },
   "file_extension": ".py",
   "mimetype": "text/x-python",
   "name": "python",
   "nbconvert_exporter": "python",
   "pygments_lexer": "ipython3",
   "version": "3.6.9"
  }
 },
 "nbformat": 4,
 "nbformat_minor": 2
}
